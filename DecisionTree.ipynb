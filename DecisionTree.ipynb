{
  "nbformat": 4,
  "nbformat_minor": 0,
  "metadata": {
    "colab": {
      "name": "DecisionTree.ipynb",
      "provenance": [],
      "collapsed_sections": []
    },
    "kernelspec": {
      "name": "python3",
      "display_name": "Python 3"
    },
    "language_info": {
      "name": "python"
    }
  },
  "cells": [
    {
      "cell_type": "markdown",
      "metadata": {
        "id": "eVPq4RvGNuND"
      },
      "source": [
        "# Decision Tree Classifiers\n",
        "Build a model to predict riding lawn mower ownership. Use the RidingMowers.csv file (same as in kNN lab) to train your model. Use decision tree classifier (DecisionTreeClassifier from sklearn.tree) to build the model."
      ]
    },
    {
      "cell_type": "code",
      "metadata": {
        "id": "VTU9ZcZSNsjz",
        "colab": {
          "base_uri": "https://localhost:8080/",
          "height": 344
        },
        "outputId": "9d6375b3-3bcc-4287-9f4d-776451abf3c3"
      },
      "source": [
        "!pip install dmba-0.0.18.tar.gz "
      ],
      "execution_count": 30,
      "outputs": [
        {
          "output_type": "stream",
          "name": "stdout",
          "text": [
            "Processing ./dmba-0.0.18.tar.gz\n",
            "\u001b[33mDEPRECATION: Source distribution is being reinstalled despite an installed package having the same name and version as the installed package. pip 21.2 will remove support for this functionality. A possible replacement is use --force-reinstall. You can find discussion regarding this at https://github.com/pypa/pip/issues/8711.\u001b[0m\n",
            "Building wheels for collected packages: dmba\n",
            "  Building wheel for dmba (setup.py) ... \u001b[?25l\u001b[?25hdone\n",
            "  Created wheel for dmba: filename=dmba-0.0.18-py3-none-any.whl size=11813673 sha256=2ed4a3a5542cfbcb6cb3c394f6bc9b40539abf284c2e0feb57744b2d5afaa893\n",
            "  Stored in directory: /root/.cache/pip/wheels/ca/05/fc/f2ca065e4013b58697d0e6b28c1456e94d02bf943d79585d77\n",
            "Successfully built dmba\n",
            "Installing collected packages: dmba\n",
            "  Attempting uninstall: dmba\n",
            "    Found existing installation: dmba 0.0.18\n",
            "    Uninstalling dmba-0.0.18:\n",
            "      Successfully uninstalled dmba-0.0.18\n",
            "Successfully installed dmba-0.0.18\n"
          ]
        },
        {
          "output_type": "display_data",
          "data": {
            "application/vnd.colab-display-data+json": {
              "pip_warning": {
                "packages": [
                  "dmba"
                ]
              }
            }
          },
          "metadata": {}
        }
      ]
    },
    {
      "cell_type": "code",
      "metadata": {
        "id": "bC8Apv0QcdnE"
      },
      "source": [
        "%matplotlib inline\n",
        "import pandas as pd\n",
        "import numpy as np\n",
        "from sklearn.tree import DecisionTreeClassifier, DecisionTreeRegressor\n",
        "from sklearn.ensemble import RandomForestClassifier, GradientBoostingClassifier\n",
        "from sklearn.model_selection import train_test_split,cross_val_score, GridSearchCV\n",
        "import matplotlib.pylab as plt\n",
        "from dmba import plotDecisionTree, classificationSummary, regressionSummary\n",
        "from sklearn.metrics import classification_report, confusion_matrix, ConfusionMatrixDisplay"
      ],
      "execution_count": 31,
      "outputs": []
    },
    {
      "cell_type": "code",
      "metadata": {
        "id": "PU5ep3o1ewnj"
      },
      "source": [
        "mower_df = pd.read_csv('RidingMowers.csv')\n"
      ],
      "execution_count": 32,
      "outputs": []
    },
    {
      "cell_type": "code",
      "metadata": {
        "colab": {
          "base_uri": "https://localhost:8080/",
          "height": 204
        },
        "id": "1oCgpYjUgsV5",
        "outputId": "50e5f19e-6622-40e5-96da-b04f2ed752cf"
      },
      "source": [
        "mower_df.head()"
      ],
      "execution_count": 33,
      "outputs": [
        {
          "output_type": "execute_result",
          "data": {
            "text/html": [
              "<div>\n",
              "<style scoped>\n",
              "    .dataframe tbody tr th:only-of-type {\n",
              "        vertical-align: middle;\n",
              "    }\n",
              "\n",
              "    .dataframe tbody tr th {\n",
              "        vertical-align: top;\n",
              "    }\n",
              "\n",
              "    .dataframe thead th {\n",
              "        text-align: right;\n",
              "    }\n",
              "</style>\n",
              "<table border=\"1\" class=\"dataframe\">\n",
              "  <thead>\n",
              "    <tr style=\"text-align: right;\">\n",
              "      <th></th>\n",
              "      <th>Income</th>\n",
              "      <th>Lot_Size</th>\n",
              "      <th>Ownership</th>\n",
              "    </tr>\n",
              "  </thead>\n",
              "  <tbody>\n",
              "    <tr>\n",
              "      <th>0</th>\n",
              "      <td>60.0</td>\n",
              "      <td>18.4</td>\n",
              "      <td>Owner</td>\n",
              "    </tr>\n",
              "    <tr>\n",
              "      <th>1</th>\n",
              "      <td>85.5</td>\n",
              "      <td>16.8</td>\n",
              "      <td>Owner</td>\n",
              "    </tr>\n",
              "    <tr>\n",
              "      <th>2</th>\n",
              "      <td>64.8</td>\n",
              "      <td>21.6</td>\n",
              "      <td>Owner</td>\n",
              "    </tr>\n",
              "    <tr>\n",
              "      <th>3</th>\n",
              "      <td>61.5</td>\n",
              "      <td>20.8</td>\n",
              "      <td>Owner</td>\n",
              "    </tr>\n",
              "    <tr>\n",
              "      <th>4</th>\n",
              "      <td>87.0</td>\n",
              "      <td>23.6</td>\n",
              "      <td>Owner</td>\n",
              "    </tr>\n",
              "  </tbody>\n",
              "</table>\n",
              "</div>"
            ],
            "text/plain": [
              "   Income  Lot_Size Ownership\n",
              "0    60.0      18.4     Owner\n",
              "1    85.5      16.8     Owner\n",
              "2    64.8      21.6     Owner\n",
              "3    61.5      20.8     Owner\n",
              "4    87.0      23.6     Owner"
            ]
          },
          "metadata": {},
          "execution_count": 33
        }
      ]
    },
    {
      "cell_type": "code",
      "metadata": {
        "colab": {
          "base_uri": "https://localhost:8080/",
          "height": 297
        },
        "id": "UBAAW_PAgwte",
        "outputId": "2b2ebd97-cd9a-4da3-c00b-386275f174ef"
      },
      "source": [
        "mower_df.describe()"
      ],
      "execution_count": 34,
      "outputs": [
        {
          "output_type": "execute_result",
          "data": {
            "text/html": [
              "<div>\n",
              "<style scoped>\n",
              "    .dataframe tbody tr th:only-of-type {\n",
              "        vertical-align: middle;\n",
              "    }\n",
              "\n",
              "    .dataframe tbody tr th {\n",
              "        vertical-align: top;\n",
              "    }\n",
              "\n",
              "    .dataframe thead th {\n",
              "        text-align: right;\n",
              "    }\n",
              "</style>\n",
              "<table border=\"1\" class=\"dataframe\">\n",
              "  <thead>\n",
              "    <tr style=\"text-align: right;\">\n",
              "      <th></th>\n",
              "      <th>Income</th>\n",
              "      <th>Lot_Size</th>\n",
              "    </tr>\n",
              "  </thead>\n",
              "  <tbody>\n",
              "    <tr>\n",
              "      <th>count</th>\n",
              "      <td>24.000000</td>\n",
              "      <td>24.000000</td>\n",
              "    </tr>\n",
              "    <tr>\n",
              "      <th>mean</th>\n",
              "      <td>68.437500</td>\n",
              "      <td>18.950000</td>\n",
              "    </tr>\n",
              "    <tr>\n",
              "      <th>std</th>\n",
              "      <td>19.793144</td>\n",
              "      <td>2.428275</td>\n",
              "    </tr>\n",
              "    <tr>\n",
              "      <th>min</th>\n",
              "      <td>33.000000</td>\n",
              "      <td>14.000000</td>\n",
              "    </tr>\n",
              "    <tr>\n",
              "      <th>25%</th>\n",
              "      <td>52.350000</td>\n",
              "      <td>17.500000</td>\n",
              "    </tr>\n",
              "    <tr>\n",
              "      <th>50%</th>\n",
              "      <td>64.800000</td>\n",
              "      <td>19.000000</td>\n",
              "    </tr>\n",
              "    <tr>\n",
              "      <th>75%</th>\n",
              "      <td>83.100000</td>\n",
              "      <td>20.800000</td>\n",
              "    </tr>\n",
              "    <tr>\n",
              "      <th>max</th>\n",
              "      <td>110.100000</td>\n",
              "      <td>23.600000</td>\n",
              "    </tr>\n",
              "  </tbody>\n",
              "</table>\n",
              "</div>"
            ],
            "text/plain": [
              "           Income   Lot_Size\n",
              "count   24.000000  24.000000\n",
              "mean    68.437500  18.950000\n",
              "std     19.793144   2.428275\n",
              "min     33.000000  14.000000\n",
              "25%     52.350000  17.500000\n",
              "50%     64.800000  19.000000\n",
              "75%     83.100000  20.800000\n",
              "max    110.100000  23.600000"
            ]
          },
          "metadata": {},
          "execution_count": 34
        }
      ]
    },
    {
      "cell_type": "code",
      "metadata": {
        "id": "3JLaETfOg0j_"
      },
      "source": [
        "excludeColumns = ('Ownership') #prep data excluding target \n",
        "predictors = [s for s in mower_df.columns if s not in excludeColumns]\n",
        "outcome = 'Ownership'"
      ],
      "execution_count": 35,
      "outputs": []
    },
    {
      "cell_type": "code",
      "metadata": {
        "id": "y-IoxohHjmAg"
      },
      "source": [
        "X = mower_df[predictors]\n",
        "Y = mower_df[outcome]"
      ],
      "execution_count": 36,
      "outputs": []
    },
    {
      "cell_type": "code",
      "metadata": {
        "id": "6MSkTDTKjwon"
      },
      "source": [
        "train_X, valid_X, train_Y, Valid_Y = train_test_split(X, Y, test_size = 0.3, random_state = 1)"
      ],
      "execution_count": 37,
      "outputs": []
    },
    {
      "cell_type": "code",
      "metadata": {
        "colab": {
          "base_uri": "https://localhost:8080/"
        },
        "id": "1mcWnObGlFV6",
        "outputId": "0464e0c4-8848-472a-a91c-c61689c73856"
      },
      "source": [
        "print(train_X.shape)\n",
        "print(valid_X.shape)"
      ],
      "execution_count": 38,
      "outputs": [
        {
          "output_type": "stream",
          "name": "stdout",
          "text": [
            "(16, 2)\n",
            "(8, 2)\n"
          ]
        }
      ]
    },
    {
      "cell_type": "code",
      "metadata": {
        "id": "1PG3MNwfljRQ"
      },
      "source": [
        "dtree = DecisionTreeClassifier().fit(train_X, train_Y)"
      ],
      "execution_count": 39,
      "outputs": []
    },
    {
      "cell_type": "code",
      "metadata": {
        "id": "_JH5XdzTnCCu"
      },
      "source": [
        "Y_valid_pred = dtree.predict(valid_X)"
      ],
      "execution_count": 40,
      "outputs": []
    },
    {
      "cell_type": "code",
      "metadata": {
        "colab": {
          "base_uri": "https://localhost:8080/",
          "height": 297
        },
        "id": "7GQnBv9Dn2i2",
        "outputId": "6bfb0da4-d6ab-4420-fd3b-ad3698f02343"
      },
      "source": [
        "valid_X"
      ],
      "execution_count": 41,
      "outputs": [
        {
          "output_type": "execute_result",
          "data": {
            "text/html": [
              "<div>\n",
              "<style scoped>\n",
              "    .dataframe tbody tr th:only-of-type {\n",
              "        vertical-align: middle;\n",
              "    }\n",
              "\n",
              "    .dataframe tbody tr th {\n",
              "        vertical-align: top;\n",
              "    }\n",
              "\n",
              "    .dataframe thead th {\n",
              "        text-align: right;\n",
              "    }\n",
              "</style>\n",
              "<table border=\"1\" class=\"dataframe\">\n",
              "  <thead>\n",
              "    <tr style=\"text-align: right;\">\n",
              "      <th></th>\n",
              "      <th>Income</th>\n",
              "      <th>Lot_Size</th>\n",
              "    </tr>\n",
              "  </thead>\n",
              "  <tbody>\n",
              "    <tr>\n",
              "      <th>13</th>\n",
              "      <td>52.8</td>\n",
              "      <td>20.8</td>\n",
              "    </tr>\n",
              "    <tr>\n",
              "      <th>18</th>\n",
              "      <td>59.4</td>\n",
              "      <td>16.0</td>\n",
              "    </tr>\n",
              "    <tr>\n",
              "      <th>3</th>\n",
              "      <td>61.5</td>\n",
              "      <td>20.8</td>\n",
              "    </tr>\n",
              "    <tr>\n",
              "      <th>14</th>\n",
              "      <td>64.8</td>\n",
              "      <td>17.2</td>\n",
              "    </tr>\n",
              "    <tr>\n",
              "      <th>20</th>\n",
              "      <td>47.4</td>\n",
              "      <td>16.4</td>\n",
              "    </tr>\n",
              "    <tr>\n",
              "      <th>17</th>\n",
              "      <td>49.2</td>\n",
              "      <td>17.6</td>\n",
              "    </tr>\n",
              "    <tr>\n",
              "      <th>10</th>\n",
              "      <td>51.0</td>\n",
              "      <td>22.0</td>\n",
              "    </tr>\n",
              "    <tr>\n",
              "      <th>4</th>\n",
              "      <td>87.0</td>\n",
              "      <td>23.6</td>\n",
              "    </tr>\n",
              "  </tbody>\n",
              "</table>\n",
              "</div>"
            ],
            "text/plain": [
              "    Income  Lot_Size\n",
              "13    52.8      20.8\n",
              "18    59.4      16.0\n",
              "3     61.5      20.8\n",
              "14    64.8      17.2\n",
              "20    47.4      16.4\n",
              "17    49.2      17.6\n",
              "10    51.0      22.0\n",
              "4     87.0      23.6"
            ]
          },
          "metadata": {},
          "execution_count": 41
        }
      ]
    },
    {
      "cell_type": "code",
      "metadata": {
        "colab": {
          "base_uri": "https://localhost:8080/"
        },
        "id": "k5QKZsStn48N",
        "outputId": "fec84d71-74ac-4715-8e01-a070655a8902"
      },
      "source": [
        "Y_valid_pred"
      ],
      "execution_count": 42,
      "outputs": [
        {
          "output_type": "execute_result",
          "data": {
            "text/plain": [
              "array(['Nonowner', 'Owner', 'Owner', 'Nonowner', 'Nonowner', 'Nonowner',\n",
              "       'Nonowner', 'Owner'], dtype=object)"
            ]
          },
          "metadata": {},
          "execution_count": 42
        }
      ]
    },
    {
      "cell_type": "code",
      "metadata": {
        "colab": {
          "base_uri": "https://localhost:8080/"
        },
        "id": "cv519lERn7YT",
        "outputId": "f8937873-5458-49db-e3ca-3e1e2d061905"
      },
      "source": [
        "print(classification_report(Valid_Y, Y_valid_pred))\n",
        "print(confusion_matrix(Valid_Y, Y_valid_pred))"
      ],
      "execution_count": 53,
      "outputs": [
        {
          "output_type": "stream",
          "name": "stdout",
          "text": [
            "              precision    recall  f1-score   support\n",
            "\n",
            "    Nonowner       0.80      0.80      0.80         5\n",
            "       Owner       0.67      0.67      0.67         3\n",
            "\n",
            "    accuracy                           0.75         8\n",
            "   macro avg       0.73      0.73      0.73         8\n",
            "weighted avg       0.75      0.75      0.75         8\n",
            "\n",
            "[[4 1]\n",
            " [1 2]]\n"
          ]
        }
      ]
    },
    {
      "cell_type": "code",
      "metadata": {
        "colab": {
          "base_uri": "https://localhost:8080/",
          "height": 653
        },
        "id": "dm2uS1CQplic",
        "outputId": "d1571d48-d6ca-43ce-f8cb-2a7441402aab"
      },
      "source": [
        "plotDecisionTree(dtree, feature_names=mower_df.columns[:2], class_names=dtree.classes_)"
      ],
      "execution_count": 48,
      "outputs": [
        {
          "output_type": "execute_result",
          "data": {
            "image/png": "[encoded data removed]",
            "text/plain": [
              "<IPython.core.display.Image object>"
            ]
          },
          "metadata": {},
          "execution_count": 48
        }
      ]
    },
    {
      "cell_type": "code",
      "metadata": {
        "colab": {
          "base_uri": "https://localhost:8080/"
        },
        "id": "_qEZsKvhql_c",
        "outputId": "88a4d453-e31e-4aec-fc53-670e1af811e7"
      },
      "source": [
        "train_Y.head()"
      ],
      "execution_count": 54,
      "outputs": [
        {
          "output_type": "execute_result",
          "data": {
            "text/plain": [
              "2        Owner\n",
              "19    Nonowner\n",
              "6        Owner\n",
              "7        Owner\n",
              "21    Nonowner\n",
              "Name: Ownership, dtype: object"
            ]
          },
          "metadata": {},
          "execution_count": 54
        }
      ]
    },
    {
      "cell_type": "code",
      "metadata": {
        "colab": {
          "base_uri": "https://localhost:8080/",
          "height": 334
        },
        "id": "BoSY2DDYsQJQ",
        "outputId": "fe2e519d-d365-4251-c4ba-86faa2b2c2ae"
      },
      "source": [
        "cm = confusion_matrix(Valid_Y, Y_valid_pred)\n",
        "print(cm)\n",
        "disp = ConfusionMatrixDisplay(confusion_matrix=cm, display_labels = dtree.classes_)\n",
        "disp.plot()"
      ],
      "execution_count": 55,
      "outputs": [
        {
          "output_type": "stream",
          "name": "stdout",
          "text": [
            "[[4 1]\n",
            " [1 2]]\n"
          ]
        },
        {
          "output_type": "execute_result",
          "data": {
            "text/plain": [
              "<sklearn.metrics._plot.confusion_matrix.ConfusionMatrixDisplay at 0x7faa32fa2a90>"
            ]
          },
          "metadata": {},
          "execution_count": 55
        },
        {
          "output_type": "display_data",
          "data": {
            "image/png": "[encoded data removed]",
            "text/plain": [
              "<Figure size 432x288 with 2 Axes>"
            ]
          },
          "metadata": {
            "needs_background": "light"
          }
        }
      ]
    }
  ]
}